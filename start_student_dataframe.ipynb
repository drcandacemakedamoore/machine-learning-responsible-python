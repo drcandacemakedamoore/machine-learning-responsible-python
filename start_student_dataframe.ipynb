{
 "cells": [
  {
   "cell_type": "markdown",
   "id": "115958b6-745d-4df2-902f-9bb665388282",
   "metadata": {
    "tags": []
   },
   "source": [
    "# Make exercise materials for episode 1.5 (med school admissions by AI)"
   ]
  },
  {
   "cell_type": "code",
   "execution_count": null,
   "id": "58ad0290-b947-45f5-b3e3-6fae7fd56929",
   "metadata": {
    "tags": []
   },
   "outputs": [],
   "source": [
    "import pandas as pd \n",
    "import numpy as np"
   ]
  },
  {
   "cell_type": "code",
   "execution_count": null,
   "id": "e65840be-03a8-4d6d-ac08-16b4c42f71b3",
   "metadata": {
    "tags": []
   },
   "outputs": [],
   "source": [
    "data_on_cands =pd.DataFrame(({'Name': [\"Mukul\", \"Rohan\", \"Mayank\",\n",
    "                                       \"Art\", \"Dirk\", \"Sander\",\n",
    "                                      \"Vedansh\", \"Krishna\", \"Kiki\",\n",
    "                                       \n",
    "                                       \"Pim\", \"Lars\", \"Markus\",\n",
    "                                        \"Walter\", \"Mateusz\", \"Zoko\",\n",
    "                                     \"Maaike\", \"Diana\",\"Natalie\", \n",
    "                                       \"Nadine\", \"Floris\", \"Johan\"],\n",
    "                    \n",
    "                   'Location': [\"Amsterdam Ooost\", \"Gronigen\",\"Zaandam\",\n",
    "                                \"Arnem\", \"Saharanpur\", \"Het Gooie\",\n",
    "                                 \"Het Gooie\", \"Het Gooie\", \"Het Gooie\",\n",
    "                                \n",
    "                                \"Het Gooie\", \"Het Gooie\", \"Het Gooie\",\n",
    "                               \"Amsterdam Central\", \"Zaandam\", \"Zaandam\",\n",
    "                               \"Sici\", \"Xang\", \"Groot\",\n",
    "                               \"Orange\", \"Zezu\", \"Hilleike\",],\n",
    "                    \n",
    "                   'Entrance_exam': [56000.0, 55000.0, 61000.0,\n",
    "                                     45000.0, 62000.0, 90.0,\n",
    "                                     64000.0, 65000.0, 56000.0,\n",
    "                                     \n",
    "                                     64000.0, 65000.0, 56000.0,\n",
    "                                     56000.0, 55000.0, 61000.0,\n",
    "                                     45000.0, 62000.0, 990.0,\n",
    "                                    56000.0, 55000.0, 61000.0,],\n",
    "                    'HSO_grades': [90,98,67,\n",
    "                                   59,76,56,\n",
    "                                   99,98,97,\n",
    "                                   \n",
    "                                   99,98,97,\n",
    "                                   98,67,78,\n",
    "                                   89,56,56,\n",
    "                                   65,76,87,],\n",
    "                             'Sex':[\"M\", \"F\", \"M\",\n",
    "                                   \"M\", \"F\", \"M\",\n",
    "                                    \"M\",\"M\", \"M\",\n",
    "                                    \n",
    "                                    \"M\",\"M\", \"M\",\n",
    "                                   \"M\", \"F\", \"M\",\n",
    "                                   \"M\", \"F\", \"M\",\n",
    "                                   \"M\", \"F\", \"M\",],\n",
    "                             'Migration background' : [\n",
    "                             True, False, True,\n",
    "                                 False, False, True,\n",
    "                                 True,True,True,\n",
    "                                 \n",
    "                                 False, False, False,\n",
    "                             True, True, True,\n",
    "                                 True, False, False,\n",
    "                                 False, False, False,],\n",
    "                              'Acts of community service':\n",
    "                              [\n",
    "                                  False, False, True,\n",
    "                                  True, False, False,\n",
    "                                  True, True, False,\n",
    "                                  \n",
    "                                  True,True,True,\n",
    "                             True, True, True,\n",
    "                                  True, False,False, \n",
    "                                  False, False, False\n",
    "                              ],\n",
    "                              'Did paid work':\n",
    "                              [\n",
    "                                  True, True, True,\n",
    "                                  False, True,True,\n",
    "                                  True,True, True,\n",
    "                                  \n",
    "                                  False,False,False,\n",
    "                             False, True, False, \n",
    "                                  True, True,False,\n",
    "                                  True, True, False,\n",
    "                              ],\n",
    "                              'High SES family':\n",
    "                              [\n",
    "                                  False, False, True,\n",
    "                                  True, False,True,\n",
    "                             True,True, True,\n",
    "                                  \n",
    "                                  True,True, True,\n",
    "                                  True, True, True,\n",
    "                                  False,False, False,\n",
    "                                  False, False,False,\n",
    "                              ],\n",
    "                              'Predicted happiness as doctor':\n",
    "                              [\n",
    "                                  100, 10,60,\n",
    "                                  6000, 90000,0,\n",
    "                             3,70, 90,\n",
    "                                  \n",
    "                                  1000,90, 3243654,\n",
    "                                  4356, 456, 3456,\n",
    "                                  99845,3456, 6543,\n",
    "                                  0, 0,654,\n",
    "                              ],\n",
    "                              'Likelyhood of working full-time':\n",
    "                              [\n",
    "                                  99, 10,60,\n",
    "                                  60, 90,1,\n",
    "                             3,70, 90,\n",
    "                                  \n",
    "                                  99,90, 32,\n",
    "                                  45, 45, 34,\n",
    "                                  99,34, 65,\n",
    "                                  4,40,64,\n",
    "                              ],\n",
    "                              \n",
    "                              \n",
    "                             }))\n"
   ]
  },
  {
   "cell_type": "code",
   "execution_count": null,
   "id": "9906f435-0443-4a73-bad6-251485f8cc20",
   "metadata": {
    "tags": []
   },
   "outputs": [],
   "source": [
    "data_on_cands"
   ]
  },
  {
   "cell_type": "code",
   "execution_count": null,
   "id": "3a1423b5-dc24-4e05-b8c8-5ac0a2a9f34d",
   "metadata": {
    "tags": []
   },
   "outputs": [],
   "source": [
    "#possible solutions\n",
    "\n",
    "data_on_cands.sort_values( by = 'Entrance_exam', ascending= False)"
   ]
  },
  {
   "cell_type": "code",
   "execution_count": null,
   "id": "bcec9ebe-a6f8-4ae4-9226-ae23bc65d25c",
   "metadata": {},
   "outputs": [],
   "source": []
  }
 ],
 "metadata": {
  "kernelspec": {
   "display_name": "Python 3 (ipykernel)",
   "language": "python",
   "name": "python3"
  },
  "language_info": {
   "codemirror_mode": {
    "name": "ipython",
    "version": 3
   },
   "file_extension": ".py",
   "mimetype": "text/x-python",
   "name": "python",
   "nbconvert_exporter": "python",
   "pygments_lexer": "ipython3",
   "version": "3.9.16"
  }
 },
 "nbformat": 4,
 "nbformat_minor": 5
}
